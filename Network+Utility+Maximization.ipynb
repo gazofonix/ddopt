{
 "cells": [
  {
   "cell_type": "markdown",
   "metadata": {
    "extensions": {
     "jupyter_dashboards": {
      "version": 1,
      "views": {
       "grid_default": {},
       "report_default": {
        "hidden": false
       }
      }
     }
    }
   },
   "source": [
    "# Simulator for NUM problems"
   ]
  },
  {
   "cell_type": "code",
   "execution_count": 1,
   "metadata": {
    "collapsed": true,
    "extensions": {
     "jupyter_dashboards": {
      "version": 1,
      "views": {
       "grid_default": {},
       "report_default": {
        "hidden": true
       }
      }
     }
    }
   },
   "outputs": [],
   "source": [
    "import numpy as np\n",
    "import matplotlib.pyplot as plt\n",
    "import pdb"
   ]
  },
  {
   "cell_type": "markdown",
   "metadata": {
    "extensions": {
     "jupyter_dashboards": {
      "version": 1,
      "views": {
       "grid_default": {},
       "report_default": {
        "hidden": false
       }
      }
     }
    }
   },
   "source": [
    "Function definition"
   ]
  },
  {
   "cell_type": "code",
   "execution_count": 2,
   "metadata": {
    "collapsed": true
   },
   "outputs": [],
   "source": [
    "def generate_coeff(source):\n",
    "    \"\"\" Generate random coefficients for the utility function \"\"\"    \n",
    "    \n",
    "    return np.random.rand(source)"
   ]
  },
  {
   "cell_type": "code",
   "execution_count": 3,
   "metadata": {
    "collapsed": true,
    "extensions": {
     "jupyter_dashboards": {
      "version": 1,
      "views": {
       "grid_default": {},
       "report_default": {
        "hidden": true
       }
      }
     }
    }
   },
   "outputs": [],
   "source": [
    "def generate_link(link):\n",
    "    \"\"\" Generate random link capacity \"\"\"\n",
    "\n",
    "    scale = 1000\n",
    "    return scale * np.random.rand(link)"
   ]
  },
  {
   "cell_type": "code",
   "execution_count": 4,
   "metadata": {
    "collapsed": true,
    "extensions": {
     "jupyter_dashboards": {
      "version": 1,
      "views": {
       "grid_default": {},
       "report_default": {
        "hidden": true
       }
      }
     }
    }
   },
   "outputs": [],
   "source": [
    "def generate_path(source, path, link):\n",
    "    \"\"\" Generate random paths \"\"\"\n",
    "    \n",
    "    x = np.zeros((source, np.max(path), link))\n",
    "    for i in range(source):\n",
    "        x[i,:,:] = np.round(np.random.rand(path[i], link))\n",
    "\n",
    "    return x"
   ]
  },
  {
   "cell_type": "markdown",
   "metadata": {
    "extensions": {
     "jupyter_dashboards": {
      "version": 1,
      "views": {
       "grid_default": {},
       "report_default": {
        "hidden": false
       }
      }
     }
    }
   },
   "source": [
    "We set the initial solution as\n",
    "\\begin{equation}\n",
    "    x^{(0)}_{s,p}=\\min_{l\\in L}\\left\\{ \\frac{0,9\\cdot c_l}{\\sum_{s,p}\\mathbf{1}_{s,p\\ni l}}\\right\\}, \\qquad \\forall s\\in S, p\\in P_s\n",
    "\\end{equation}"
   ]
  },
  {
   "cell_type": "code",
   "execution_count": 5,
   "metadata": {
    "collapsed": true,
    "extensions": {
     "jupyter_dashboards": {
      "version": 1,
      "views": {
       "grid_default": {},
       "report_default": {
        "hidden": true
       }
      }
     }
    }
   },
   "outputs": [],
   "source": [
    "def initial_solution(x, cl):\n",
    "    \"\"\" Compute an initial feasible solution \"\"\"\n",
    "    \n",
    "    return x * np.min((0.9 * cl)/ np.sum(np.sum(x, axis=1), axis=0))"
   ]
  },
  {
   "cell_type": "markdown",
   "metadata": {
    "extensions": {
     "jupyter_dashboards": {
      "version": 1,
      "views": {
       "grid_default": {},
       "report_default": {
        "hidden": false
       }
      }
     }
    }
   },
   "source": [
    "We use the following utility function:\n",
    "\\begin{equation}\n",
    "    \\sum_{s\\in S}a_s\\cdot\\log\\left(\\sum_{p\\in P_s}x_{s,p}\\right), \\qquad a_s\\in [0, 1].\n",
    "\\end{equation}"
   ]
  },
  {
   "cell_type": "code",
   "execution_count": 6,
   "metadata": {
    "collapsed": true,
    "extensions": {
     "jupyter_dashboards": {
      "version": 1,
      "views": {
       "grid_default": {
        "hidden": true
       },
       "report_default": {
        "hidden": true
       }
      }
     }
    }
   },
   "outputs": [],
   "source": [
    "def compute_utility(x, source, coeff):\n",
    "    \"\"\" Compute the utility at the current iteration \"\"\"\n",
    "    \n",
    "    return sum(coeff * np.log(np.sum(np.max(x, axis=2), axis=1)))"
   ]
  },
  {
   "cell_type": "code",
   "execution_count": 7,
   "metadata": {
    "collapsed": true,
    "extensions": {
     "jupyter_dashboards": {
      "version": 1,
      "views": {
       "grid_default": {
        "hidden": true
       },
       "report_default": {
        "hidden": true
       }
      }
     }
    }
   },
   "outputs": [],
   "source": [
    "def backtracking_stepsize():\n",
    "    \"\"\" Compute backtracking line search for the step size at the current iteration \"\"\"\n",
    "    \n",
    "    return"
   ]
  },
  {
   "cell_type": "code",
   "execution_count": 8,
   "metadata": {
    "collapsed": true
   },
   "outputs": [],
   "source": [
    "def plot_utility(y):\n",
    "    \"\"\" Plot utility value per iteration \"\"\"\n",
    "    \n",
    "    fig, ax = plt.subplots()\n",
    "    ax.plot(np.arange(np.shape(y)[0]), y)\n",
    "    plt.tight_layout()\n",
    "    ax.set_title('Utility')\n",
    "    plt.show()"
   ]
  },
  {
   "cell_type": "markdown",
   "metadata": {
    "extensions": {
     "jupyter_dashboards": {
      "version": 1,
      "views": {
       "grid_default": {},
       "report_default": {
        "hidden": false
       }
      }
     }
    }
   },
   "source": [
    "We use the logarithmic barrier function\n",
    "\\begin{equation}\n",
    "    \\quad B_l({y}) = \\begin{cases} -\\log(c_l - y), & \\mbox{if } {y}< c_l, \\\\ \\infty, & \\mbox{if } {y}\\geq c_l. \\end{cases}\n",
    "\\end{equation}\n",
    "\n",
    "The gradient step for the exponentiated gradient descent is\n",
    "\\begin{equation}\n",
    "    x_{s,p}^{(k+1)} = x_{s,p}^{(k)}\\cdot \\exp \\left\\{\\eta^{(k)}\\cdot \\left[U_s'\\left(x^{(k)}_{s,p}\\right) - \\sum_{l:l\\in s,p}\\frac{\\mu^{(k)}}{\\sum x^{(k)}_{s,p} - c_l}\\right]\\right\\}\n",
    "\\end{equation}"
   ]
  },
  {
   "cell_type": "code",
   "execution_count": 9,
   "metadata": {
    "collapsed": true,
    "extensions": {
     "jupyter_dashboards": {
      "version": 1,
      "views": {
       "grid_default": {
        "hidden": true
       },
       "report_default": {
        "hidden": true
       }
      }
     }
    }
   },
   "outputs": [],
   "source": [
    "def gradient_step(old_x, source, link, path, step_size, barrier, cl):\n",
    "    \"\"\" Compute the gradient step at the current iteration \"\"\"\n",
    "    \n",
    "    # We approximate infinity with a large value\n",
    "    INF = np.power(10, 10)\n",
    "    \n",
    "    # Compute price\n",
    "    price = np.zeros((source, np.max(path)))\n",
    "    link_price = 1 / (cl - np.sum(np.sum(old_x, axis=1), axis=0))\n",
    "    link_price[link_price == np.inf] = INF \n",
    "    for s in range(source):\n",
    "        for p in range(path[s]):\n",
    "            price[s, p] = np.dot((old_x[s, p, :] > 0).astype(int), link_price)\n",
    "\n",
    "    # Gradient step\n",
    "    x = np.max(old_x, axis=2) * np.exp(step_size * (1 / np.max(old_x, axis=2) - price))\n",
    "    return np.tile(x, (link, 1, 1)).transpose(1, 2, 0) * (old_x > 0).astype(int)"
   ]
  },
  {
   "cell_type": "markdown",
   "metadata": {
    "extensions": {
     "jupyter_dashboards": {
      "version": 1,
      "views": {
       "grid_default": {},
       "report_default": {
        "hidden": false
       }
      }
     }
    }
   },
   "source": [
    "Variable initialization"
   ]
  },
  {
   "cell_type": "code",
   "execution_count": 26,
   "metadata": {
    "collapsed": true,
    "extensions": {
     "jupyter_dashboards": {
      "version": 1,
      "views": {
       "grid_default": {
        "col": 0,
        "height": 62,
        "hidden": false,
        "row": 0,
        "width": 4
       },
       "report_default": {
        "hidden": false
       }
      }
     }
    }
   },
   "outputs": [],
   "source": [
    "# Max number of iterations\n",
    "max_iter =  100\n",
    "\n",
    "# Number of OD pairs\n",
    "source = 4\n",
    "\n",
    "# Number of paths per OD pair\n",
    "path = 2 * np.ones(source, dtype='int32')\n",
    "\n",
    "# Number of links\n",
    "link = 5"
   ]
  },
  {
   "cell_type": "code",
   "execution_count": 11,
   "metadata": {
    "collapsed": true,
    "extensions": {
     "jupyter_dashboards": {
      "version": 1,
      "views": {
       "grid_default": {},
       "report_default": {
        "hidden": true
       }
      }
     }
    }
   },
   "outputs": [],
   "source": [
    "# Define utility\n",
    "coeff = np.random.rand(source)\n",
    "\n",
    "# Generate link capacity\n",
    "cl = generate_link(link)\n",
    "\n",
    "# Generate paths\n",
    "x0 = generate_path(source, path, link)"
   ]
  },
  {
   "cell_type": "markdown",
   "metadata": {
    "extensions": {
     "jupyter_dashboards": {
      "version": 1,
      "views": {
       "grid_default": {},
       "report_default": {
        "hidden": false
       }
      }
     }
    }
   },
   "source": [
    "Body of the simulator"
   ]
  },
  {
   "cell_type": "code",
   "execution_count": 27,
   "metadata": {
    "collapsed": true
   },
   "outputs": [],
   "source": [
    "# Fixed step size\n",
    "step_size = 10\n",
    "barrier = 10"
   ]
  },
  {
   "cell_type": "code",
   "execution_count": 28,
   "metadata": {
    "extensions": {
     "jupyter_dashboards": {
      "version": 1,
      "views": {
       "grid_default": {
        "hidden": true
       },
       "report_default": {
        "hidden": true
       }
      }
     }
    }
   },
   "outputs": [
    {
     "data": {
      "image/png": "[encoded data removed]",
      "text/plain": [
       "<matplotlib.figure.Figure at 0x7f1be8e12400>"
      ]
     },
     "metadata": {},
     "output_type": "display_data"
    }
   ],
   "source": [
    "# Initial feasible solution\n",
    "x = initial_solution(x0, cl)\n",
    "utility = np.zeros((max_iter + 1))\n",
    "\n",
    "utility[0] = compute_utility(x, source, coeff)\n",
    "for i in range(max_iter):\n",
    "#    step_size = backtracking_stepsize()    Uncomment to use backtracking line search\n",
    "    x = gradient_step(x, source, link, path, step_size, barrier, cl)\n",
    "    utility[i + 1] = compute_utility(x, source, coeff)\n",
    "        \n",
    "# Plot utility\n",
    "plot_utility(utility)"
   ]
  },
  {
   "cell_type": "markdown",
   "metadata": {},
   "source": []
  }
 ],
 "metadata": {
  "extensions": {
   "jupyter_dashboards": {
    "activeView": "report_default",
    "version": 1,
    "views": {
     "grid_default": {
      "cellMargin": 10,
      "defaultCellHeight": 20,
      "maxColumns": 12,
      "name": "grid",
      "type": "grid"
     },
     "report_default": {
      "name": "report",
      "type": "report"
     }
    }
   }
  },
  "kernelspec": {
   "display_name": "Python 3",
   "language": "python",
   "name": "python3"
  },
  "language_info": {
   "codemirror_mode": {
    "name": "ipython",
    "version": 3
   },
   "file_extension": ".py",
   "mimetype": "text/x-python",
   "name": "python",
   "nbconvert_exporter": "python",
   "pygments_lexer": "ipython3",
   "version": "3.6.3"
  }
 },
 "nbformat": 4,
 "nbformat_minor": 2
}
