{
 "cells": [
  {
   "cell_type": "markdown",
   "metadata": {
    "extensions": {
     "jupyter_dashboards": {
      "version": 1,
      "views": {
       "grid_default": {},
       "report_default": {
        "hidden": false
       }
      }
     }
    }
   },
   "source": [
    "# Simulator for NUM problems"
   ]
  },
  {
   "cell_type": "code",
   "execution_count": 172,
   "metadata": {
    "collapsed": true,
    "extensions": {
     "jupyter_dashboards": {
      "version": 1,
      "views": {
       "grid_default": {
        "col": 0,
        "height": 62,
        "hidden": false,
        "row": 0,
        "width": 4
       },
       "report_default": {
        "hidden": false
       }
      }
     }
    }
   },
   "outputs": [],
   "source": [
    "max_iter = 10000\n",
    "source = 1\n",
    "link = 7\n",
    "max_path = 15\n",
    "barrier = 1"
   ]
  },
  {
   "cell_type": "code",
   "execution_count": 156,
   "metadata": {
    "collapsed": true,
    "extensions": {
     "jupyter_dashboards": {
      "version": 1,
      "views": {
       "grid_default": {},
       "report_default": {
        "hidden": true
       }
      }
     }
    }
   },
   "outputs": [],
   "source": [
    "import numpy as np\n",
    "import matplotlib.pyplot as plt\n",
    "import pdb"
   ]
  },
  {
   "cell_type": "code",
   "execution_count": null,
   "metadata": {
    "collapsed": true
   },
   "outputs": [],
   "source": [
    "# Number of paths per OD pair\n",
    "path = max_path * np.ones(source, dtype='int32')"
   ]
  },
  {
   "cell_type": "code",
   "execution_count": 157,
   "metadata": {
    "collapsed": true
   },
   "outputs": [],
   "source": [
    "%matplotlib notebook"
   ]
  },
  {
   "cell_type": "markdown",
   "metadata": {
    "extensions": {
     "jupyter_dashboards": {
      "version": 1,
      "views": {
       "grid_default": {},
       "report_default": {
        "hidden": false
       }
      }
     }
    }
   },
   "source": [
    "Function definition"
   ]
  },
  {
   "cell_type": "code",
   "execution_count": 158,
   "metadata": {
    "collapsed": true
   },
   "outputs": [],
   "source": [
    "def generate_coeff(source):\n",
    "    \"\"\" Generate random coefficients for the utility function \"\"\"    \n",
    "    \n",
    "    return np.random.rand(source)"
   ]
  },
  {
   "cell_type": "code",
   "execution_count": 159,
   "metadata": {
    "collapsed": true,
    "extensions": {
     "jupyter_dashboards": {
      "version": 1,
      "views": {
       "grid_default": {},
       "report_default": {
        "hidden": true
       }
      }
     }
    }
   },
   "outputs": [],
   "source": [
    "def generate_link(link):\n",
    "    \"\"\" Generate random link capacity \"\"\"\n",
    "\n",
    "    scale = 100\n",
    "    return scale * np.random.rand(link)"
   ]
  },
  {
   "cell_type": "code",
   "execution_count": 160,
   "metadata": {
    "collapsed": true,
    "extensions": {
     "jupyter_dashboards": {
      "version": 1,
      "views": {
       "grid_default": {},
       "report_default": {
        "hidden": true
       }
      }
     }
    }
   },
   "outputs": [],
   "source": [
    "def generate_path(source, path, link):\n",
    "    \"\"\" Generate random paths \"\"\"\n",
    "    \n",
    "    x = np.zeros((source, np.max(path), link))\n",
    "    for i in range(source):\n",
    "        x[i,:,:] = np.round(np.random.rand(path[i], link))\n",
    "        \n",
    "    # check if some paths have zero links\n",
    "    aux = np.where(np.sum(x, axis=2) == 0)[1]\n",
    "    for idx, i in enumerate(np.where(np.sum(x, axis=2) == 0)[0]):\n",
    "        z = int(np.floor(link * np.random.rand()))\n",
    "        x[i,aux[idx], z] = 1\n",
    "    \n",
    "    return x"
   ]
  },
  {
   "cell_type": "markdown",
   "metadata": {
    "extensions": {
     "jupyter_dashboards": {
      "version": 1,
      "views": {
       "grid_default": {},
       "report_default": {
        "hidden": false
       }
      }
     }
    }
   },
   "source": [
    "We set the initial solution as\n",
    "\\begin{equation}\n",
    "    x^{(0)}_{s,p}=\\min_{l\\in L}\\left\\{ \\frac{0,9\\cdot c_l}{\\sum_{s,p}\\mathbf{1}_{s,p\\ni l}}\\right\\}, \\qquad \\forall s\\in S, p\\in P_s\n",
    "\\end{equation}"
   ]
  },
  {
   "cell_type": "code",
   "execution_count": 161,
   "metadata": {
    "collapsed": true,
    "extensions": {
     "jupyter_dashboards": {
      "version": 1,
      "views": {
       "grid_default": {},
       "report_default": {
        "hidden": true
       }
      }
     }
    }
   },
   "outputs": [],
   "source": [
    "def initial_solution(x, cl):\n",
    "    \"\"\" Compute an initial feasible solution according to the above expression \"\"\"\n",
    "    \n",
    "    return x * np.min((0.9 * cl)/ np.sum(np.sum(x, axis=1), axis=0))"
   ]
  },
  {
   "cell_type": "markdown",
   "metadata": {
    "extensions": {
     "jupyter_dashboards": {
      "version": 1,
      "views": {
       "grid_default": {},
       "report_default": {
        "hidden": false
       }
      }
     }
    }
   },
   "source": [
    "We use the following utility function:\n",
    "\\begin{equation}\n",
    "    \\sum_{s\\in S}a_s\\cdot\\log\\left(\\sum_{p\\in P_s}x_{s,p}\\right), \\qquad a_s\\in [0, 1].\n",
    "\\end{equation}"
   ]
  },
  {
   "cell_type": "code",
   "execution_count": 162,
   "metadata": {
    "collapsed": true,
    "extensions": {
     "jupyter_dashboards": {
      "version": 1,
      "views": {
       "grid_default": {
        "hidden": true
       },
       "report_default": {
        "hidden": true
       }
      }
     }
    }
   },
   "outputs": [],
   "source": [
    "def compute_utility(x, source, coeff):\n",
    "    \"\"\" Compute the utility at the current iteration \"\"\"\n",
    "    \n",
    "    return sum(coeff * np.log(np.sum(np.max(x, axis=2), axis=1)))"
   ]
  },
  {
   "cell_type": "code",
   "execution_count": 163,
   "metadata": {
    "collapsed": true
   },
   "outputs": [],
   "source": [
    "def compute_obj(x, source, coeff, b, cl):\n",
    "    \"\"\" Compute the utility minus the barrier penalty \"\"\"\n",
    "\n",
    "    return compute_utility(x, source, coeff) - sum(b * np.log(cl - np.sum(np.sum(x, axis=1), axis=0)))"
   ]
  },
  {
   "cell_type": "code",
   "execution_count": 164,
   "metadata": {
    "collapsed": true,
    "extensions": {
     "jupyter_dashboards": {
      "version": 1,
      "views": {
       "grid_default": {
        "hidden": true
       },
       "report_default": {
        "hidden": true
       }
      }
     }
    }
   },
   "outputs": [],
   "source": [
    "def backtracking_linesearch(old_x, source, link, path, coeff, step_size, barrier, cl):\n",
    "    \"\"\" Compute backtracking line search for the step size at the current iteration \"\"\"\n",
    "    \n",
    "    a = 0.1    # Typical values are in the range [0.01, 0.3]\n",
    "    b = 0.5    # Typical values are in the range [0.1, 0.8]\n",
    "    t = 1      # Initial step size\n",
    "    \n",
    "    x = gradient_step(old_x, source, link, path, t, barrier, cl)\n",
    "    while compute_obj(x, source, coeff, barrier, cl) - compute_obj(old_x, source, coeff, barrier, cl) < a * t:\n",
    "        t = b * t\n",
    "        x = gradient_step(old_x, source, link, path, t, barrier, cl)\n",
    "    \n",
    "    return t"
   ]
  },
  {
   "cell_type": "markdown",
   "metadata": {
    "extensions": {
     "jupyter_dashboards": {
      "version": 1,
      "views": {
       "grid_default": {},
       "report_default": {
        "hidden": false
       }
      }
     }
    }
   },
   "source": [
    "We use the logarithmic barrier function\n",
    "\\begin{equation}\n",
    "    \\quad B_l({y}) = \\begin{cases} -\\log(c_l - y), & \\mbox{if } {y}< c_l, \\\\ \\infty, & \\mbox{if } {y}\\geq c_l. \\end{cases}\n",
    "\\end{equation}\n",
    "\n",
    "The gradient step for the exponentiated gradient descent is\n",
    "\\begin{equation}\n",
    "    x_{s,p}^{(k+1)} = x_{s,p}^{(k)}\\cdot \\exp \\left\\{\\eta^{(k)}\\cdot \\left[U_s'\\left(x^{(k)}_{s,p}\\right) - \\sum_{l:l\\in s,p}\\frac{\\mu^{(k)}}{\\sum x^{(k)}_{s,p} - c_l}\\right]\\right\\}\n",
    "\\end{equation}"
   ]
  },
  {
   "cell_type": "code",
   "execution_count": 165,
   "metadata": {
    "collapsed": true,
    "extensions": {
     "jupyter_dashboards": {
      "version": 1,
      "views": {
       "grid_default": {
        "hidden": true
       },
       "report_default": {
        "hidden": true
       }
      }
     }
    }
   },
   "outputs": [],
   "source": [
    "def egd_step(old_x, source, link, path, step_size, barrier, cl):\n",
    "    \"\"\" Compute the gradient step (EGD algorithm) at the current iteration \"\"\"\n",
    "    \n",
    "    price = compute_price(source, path, cl, old_x)\n",
    "\n",
    "    # Gradient step\n",
    "    aux = np.max(old_x, axis=2) * np.exp(step_size * (1 / np.max(old_x, axis=2) - price))\n",
    "    x = np.tile(aux, (link, 1, 1)).transpose(1, 2, 0) * (old_x > 0).astype(int)\n",
    "    while any(np.sum(np.sum(x, axis=1), axis=0) > cl):\n",
    "        step_size *= 0.9\n",
    "        aux = np.max(old_x, axis=2) * np.exp(step_size * (1 / np.max(old_x, axis=2) - price))\n",
    "        x = np.tile(aux, (link, 1, 1)).transpose(1, 2, 0) * (old_x > 0).astype(int)\n",
    "        \n",
    "    return x, step_size"
   ]
  },
  {
   "cell_type": "code",
   "execution_count": 166,
   "metadata": {
    "collapsed": true
   },
   "outputs": [],
   "source": [
    "def gd_step(old_x, source, link, path, step_size, barrier, cl):\n",
    "    \"\"\" Compute the gradient step (GD algorithm) at the current iteration \"\"\"\n",
    "    \n",
    "    price = compute_price(source, path, cl, old_x)\n",
    "\n",
    "    # Gradient step\n",
    "    aux = np.max(old_x, axis=2) + step_size * (1 / np.max(old_x, axis=2) - price)\n",
    "    x = np.tile(aux, (link, 1, 1)).transpose(1, 2, 0) * (old_x > 0).astype(int)\n",
    "    while any(np.sum(np.sum(x, axis=1), axis=0) > cl) or (np.sum(np.sum(aux < 0)) > 0):\n",
    "        step_size *= 0.9\n",
    "        aux = np.max(old_x, axis=2) + step_size * (1 / np.max(old_x, axis=2) - price)\n",
    "        x = np.tile(aux, (link, 1, 1)).transpose(1, 2, 0) * (old_x > 0).astype(int)\n",
    "        \n",
    "    return x, step_size "
   ]
  },
  {
   "cell_type": "code",
   "execution_count": 167,
   "metadata": {
    "collapsed": true
   },
   "outputs": [],
   "source": [
    "def compute_price(source, path, cl, x):\n",
    "    \"\"\" Compute the 'price' intriduced by the barrier function the current iteration \"\"\"\n",
    "    \n",
    "    price = np.zeros((source, np.max(path)))\n",
    "    link_price = 1 / (cl - np.sum(np.sum(x, axis=1), axis=0))\n",
    "    for s in range(source):\n",
    "        for p in range(path[s]):\n",
    "            price[s, p] = np.dot((x[s, p, :] > 0).astype(int), link_price)\n",
    "            \n",
    "    return price"
   ]
  },
  {
   "cell_type": "code",
   "execution_count": 168,
   "metadata": {
    "collapsed": true
   },
   "outputs": [],
   "source": [
    "def check_overflow(x, step_size):\n",
    "    \"\"\" Bound the exponent of the gradient step with the value set by <overflow_exponent> \"\"\"\n",
    "    \n",
    "    overflow_exponent = 15\n",
    "    if step_size * (1 / x) > overflow_exponent:\n",
    "        step_size = np.min(overflow_exponent / (1 / x))\n",
    "\n",
    "    return step_size"
   ]
  },
  {
   "cell_type": "code",
   "execution_count": 169,
   "metadata": {
    "collapsed": true,
    "extensions": {
     "jupyter_dashboards": {
      "version": 1,
      "views": {
       "grid_default": {
        "hidden": true
       },
       "report_default": {
        "hidden": true
       }
      }
     }
    }
   },
   "outputs": [],
   "source": [
    "def exponentiated_gradient_descent(x0, cl, max_iter, source, link, path, coeff, barrier):\n",
    "    \"\"\" Compute the utility of the EGD algorithm \"\"\"\n",
    "    \n",
    "    step_correction = 0.9999 # decrease step size\n",
    "    \n",
    "    # Initial feasible solution EGD\n",
    "    x = initial_solution(x0, cl)\n",
    "    step_size = check_overflow(np.min(np.max(x, axis=2)), 10)\n",
    "    utility = np.zeros((max_iter + 1))\n",
    "    utility[0] = compute_utility(x, source, coeff)\n",
    "    \n",
    "    # Output variables\n",
    "    obj = np.zeros((max_iter + 1))\n",
    "    obj[0] = compute_obj(x, source, coeff, step_size, cl)\n",
    "    step = np.zeros((max_iter + 1))\n",
    "    step[0] = step_size\n",
    "\n",
    "    for i in range(max_iter):\n",
    "        step_size *= step_correction\n",
    "        x, step_size = egd_step(x, source, link, path, step_size, step_size, cl)\n",
    "            \n",
    "        # Output\n",
    "        utility[i + 1] = compute_utility(x, source, coeff)\n",
    "        obj[i + 1] = compute_obj(x, source, coeff, step_size, cl)\n",
    "        step[i + 1] = step_size\n",
    "        \n",
    "        if i % np.round(max_iter / 10) == 0:\n",
    "            print(i)\n",
    "\n",
    "    return utility, obj, step"
   ]
  },
  {
   "cell_type": "code",
   "execution_count": 170,
   "metadata": {
    "collapsed": true
   },
   "outputs": [],
   "source": [
    "def gradient_descent(x0, cl, max_iter, source, link, path, coeff, barrier):\n",
    "    \"\"\" Compute the utility of the GD algorithm \"\"\"\n",
    "\n",
    "    step_correction = 0.9999 # decrease step size\n",
    "    \n",
    "    # Initial feasible solution GD\n",
    "    x = initial_solution(x0, cl)\n",
    "    step_size = 100\n",
    "    utility = np.zeros((max_iter + 1))\n",
    "    utility[0] = compute_utility(x, source, coeff)\n",
    "    \n",
    "    # Output variables\n",
    "    obj = np.zeros((max_iter + 1))\n",
    "    obj[0] = compute_obj(x, source, coeff, step_size, cl)\n",
    "    step = np.zeros((max_iter + 1))\n",
    "    step[0] = 0\n",
    "\n",
    "\n",
    "    for i in range(max_iter):\n",
    "        step_size *= step_correction\n",
    "        x, step_size = gd_step(x, source, link, path, step_size, barrier, cl)\n",
    "            \n",
    "        # Output\n",
    "        utility[i + 1] = compute_utility(x, source, coeff)\n",
    "        obj[i + 1] = compute_obj(x, source, coeff, step_size, cl)\n",
    "        step[i + 1] = step_size\n",
    "        \n",
    "        if i % np.round(max_iter / 10) == 0:\n",
    "            print(i)\n",
    "\n",
    "    return utility, obj, step"
   ]
  },
  {
   "cell_type": "code",
   "execution_count": 171,
   "metadata": {
    "collapsed": true
   },
   "outputs": [],
   "source": [
    "def generate_plot(utility_egd, utility_gd, max_iter):\n",
    "    \"\"\" Plot utility value per iteration \"\"\"\n",
    "    \n",
    "    fig, ax = plt.subplots()\n",
    "    ax.plot(range(max_iter), utility_egd[1:], 'k', label='EGD')\n",
    "    ax.plot(range(max_iter), utility_gd[1:], 'g:', label='GD')\n",
    "    \n",
    "    # Add the legent\n",
    "    legend = ax.legend(loc='lower right', shadow=True)\n",
    "\n",
    "    # The frame is matplotlib.patches.Rectangle instance surrounding the legend\n",
    "    frame = legend.get_frame()\n",
    "    frame.set_facecolor('0.90')\n",
    "\n",
    "    # Set the fontsize\n",
    "    for label in legend.get_texts():\n",
    "        label.set_fontsize('large')\n",
    "\n",
    "    for label in legend.get_lines():\n",
    "        label.set_linewidth(1.2)\n",
    "    \n",
    "    plt.show()"
   ]
  },
  {
   "cell_type": "markdown",
   "metadata": {
    "extensions": {
     "jupyter_dashboards": {
      "version": 1,
      "views": {
       "grid_default": {},
       "report_default": {
        "hidden": false
       }
      }
     }
    }
   },
   "source": [
    "Variable initialization"
   ]
  },
  {
   "cell_type": "code",
   "execution_count": 173,
   "metadata": {
    "collapsed": true,
    "extensions": {
     "jupyter_dashboards": {
      "version": 1,
      "views": {
       "grid_default": {},
       "report_default": {
        "hidden": true
       }
      }
     }
    }
   },
   "outputs": [],
   "source": [
    "# Define utility\n",
    "coeff = np.random.rand(source)\n",
    "\n",
    "# Generate link capacity\n",
    "cl = generate_link(link)\n",
    "\n",
    "# Generate paths\n",
    "x0 = generate_path(source, path, link)"
   ]
  },
  {
   "cell_type": "markdown",
   "metadata": {
    "extensions": {
     "jupyter_dashboards": {
      "version": 1,
      "views": {
       "grid_default": {},
       "report_default": {
        "hidden": false
       }
      }
     }
    }
   },
   "source": [
    "Body of the simulator"
   ]
  },
  {
   "cell_type": "code",
   "execution_count": null,
   "metadata": {
    "collapsed": true,
    "scrolled": false
   },
   "outputs": [],
   "source": [
    "# Compute utility\n",
    "%time utility_egd, obj_egd, step_egd = exponentiated_gradient_descent(x0, cl, max_iter, source, link, path, coeff, barrier)\n",
    "%time utility_gd, obj_gd, step_gd = gradient_descent(x0, cl, max_iter, source, link, path, coeff, barrier)\n",
    "\n",
    "# Plot\n",
    "generate_plot(utility_egd, utility_gd, max_iter)\n",
    "generate_plot(obj_egd, obj_gd, max_iter)\n",
    "generate_plot(step_egd, step_gd, max_iter)"
   ]
  }
 ],
 "metadata": {
  "extensions": {
   "jupyter_dashboards": {
    "activeView": "report_default",
    "version": 1,
    "views": {
     "grid_default": {
      "cellMargin": 10,
      "defaultCellHeight": 20,
      "maxColumns": 12,
      "name": "grid",
      "type": "grid"
     },
     "report_default": {
      "name": "report",
      "type": "report"
     }
    }
   }
  },
  "kernelspec": {
   "display_name": "Python 3",
   "language": "python",
   "name": "python3"
  },
  "language_info": {
   "codemirror_mode": {
    "name": "ipython",
    "version": 3
   },
   "file_extension": ".py",
   "mimetype": "text/x-python",
   "name": "python",
   "nbconvert_exporter": "python",
   "pygments_lexer": "ipython3",
   "version": "3.6.3"
  }
 },
 "nbformat": 4,
 "nbformat_minor": 2
}
