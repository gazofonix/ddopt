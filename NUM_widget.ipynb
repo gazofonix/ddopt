{
 "cells": [
  {
   "cell_type": "code",
   "execution_count": null,
   "metadata": {
    "collapsed": true
   },
   "outputs": [],
   "source": [
    "from nbparameterise import extract_parameters, parameter_values, replace_definitions\n",
    "import nbformat\n",
    "from ipywidgets import interact, interactive, fixed, interact_manual\n",
    "import ipywidgets as widgets\n",
    "from IPython.display import display, clear_output"
   ]
  },
  {
   "cell_type": "code",
   "execution_count": null,
   "metadata": {
    "collapsed": true
   },
   "outputs": [],
   "source": [
    "def update_input(a, b, c, d):\n",
    "    \n",
    "    # Open notebook\n",
    "    with open(\"Network Utility Maximization.ipynb\") as f:\n",
    "        nb = nbformat.read(f, as_version=4)\n",
    "    \n",
    "    # Update the parameters\n",
    "    orig_parameters = extract_parameters(nb)\n",
    "    params = parameter_values(orig_parameters, max_iter=a, source=b, max_path=c, link=d)\n",
    "    new_nb = replace_definitions(nb, params, False)\n",
    "    \n",
    "    # Save changes\n",
    "    with open(\"Network Utility Maximization.ipynb\", 'w') as f:\n",
    "        nbformat.write(new_nb, f)"
   ]
  },
  {
   "cell_type": "code",
   "execution_count": null,
   "metadata": {
    "collapsed": true
   },
   "outputs": [],
   "source": [
    "def run_simulator():\n",
    "\n",
    "    # Run notebook\n",
    "    %run \"Network Utility Maximization.ipynb\""
   ]
  },
  {
   "cell_type": "code",
   "execution_count": null,
   "metadata": {
    "collapsed": true
   },
   "outputs": [],
   "source": [
    "def f1(a1):\n",
    "    \n",
    "    global max_iter\n",
    "    max_iter = a1"
   ]
  },
  {
   "cell_type": "code",
   "execution_count": null,
   "metadata": {
    "collapsed": true
   },
   "outputs": [],
   "source": [
    "def f2(a2):\n",
    "    \n",
    "    global source\n",
    "    source = a2"
   ]
  },
  {
   "cell_type": "code",
   "execution_count": null,
   "metadata": {
    "collapsed": true
   },
   "outputs": [],
   "source": [
    "def f3(a3):\n",
    "    \n",
    "    global max_path\n",
    "    max_path = a3"
   ]
  },
  {
   "cell_type": "code",
   "execution_count": null,
   "metadata": {
    "collapsed": true
   },
   "outputs": [],
   "source": [
    "def f4(a4):\n",
    "    \n",
    "    global link\n",
    "    link = a4"
   ]
  },
  {
   "cell_type": "code",
   "execution_count": null,
   "metadata": {
    "scrolled": false
   },
   "outputs": [],
   "source": [
    "# Create sliders\n",
    "w1 = widgets.IntSlider(description=\"Iterations\", min=100, max=10000, step=100, value=1000)\n",
    "interact(f1, a1=w1)\n",
    "w2 = widgets.IntSlider(description=\"Sources\", min=1, max=1000, step=1, value=100)\n",
    "interact(f2, a2=w2)\n",
    "w3 = widgets.IntSlider(description=\"Paths\", min=1, max=1000, step=1, value=100)\n",
    "interact(f3, a3=w3)\n",
    "w4 = widgets.IntSlider(description=\"Links\", min=1, max=1000, step=1, value=100)\n",
    "interact(f4, a4=w4)\n",
    "\n",
    "# Create command button\n",
    "button = widgets.Button(description=\"Run simulator\")\n",
    "display(button)\n",
    "    \n",
    "def on_button_clicked(b):\n",
    "    clear_output()\n",
    "    print(\"Iterations:\", max_iter)\n",
    "    print(\"Sources:\", source)\n",
    "    print(\"Paths:\", max_path)\n",
    "    print(\"Links:\", link)\n",
    "    print(\"Updating input variables...\")\n",
    "    update_input(max_iter, source, max_path, link)\n",
    "    print(\"Variables updated successfully\")\n",
    "    print(\"Simulator starts\")\n",
    "    run_simulator()\n",
    "    \n",
    "button.on_click(on_button_clicked)"
   ]
  }
 ],
 "metadata": {
  "kernelspec": {
   "display_name": "Python 3",
   "language": "python",
   "name": "python3"
  },
  "language_info": {
   "codemirror_mode": {
    "name": "ipython",
    "version": 3
   },
   "file_extension": ".py",
   "mimetype": "text/x-python",
   "name": "python",
   "nbconvert_exporter": "python",
   "pygments_lexer": "ipython3",
   "version": "3.6.3"
  }
 },
 "nbformat": 4,
 "nbformat_minor": 2
}
